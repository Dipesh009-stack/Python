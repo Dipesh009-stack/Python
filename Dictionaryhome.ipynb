{
 "cells": [
  {
   "cell_type": "code",
   "execution_count": 2,
   "id": "57edf8c2",
   "metadata": {},
   "outputs": [],
   "source": [
    "L = [1,2,3,4,\"ram\",5,\"Shyam\",32,342]\n"
   ]
  },
  {
   "cell_type": "code",
   "execution_count": 14,
   "id": "8d546e17",
   "metadata": {},
   "outputs": [],
   "source": [
    "L.append(10)"
   ]
  },
  {
   "cell_type": "code",
   "execution_count": 15,
   "id": "c4ca3208",
   "metadata": {},
   "outputs": [
    {
     "data": {
      "text/plain": [
       "[1, 2, 3, 4, 'ram', 5, 'Shyam', 32, 342, 2, 2, 10, 10]"
      ]
     },
     "execution_count": 15,
     "metadata": {},
     "output_type": "execute_result"
    }
   ],
   "source": [
    "L"
   ]
  },
  {
   "cell_type": "code",
   "execution_count": 44,
   "id": "4d3edef0",
   "metadata": {},
   "outputs": [],
   "source": [
    "L.append(3)"
   ]
  },
  {
   "cell_type": "code",
   "execution_count": 45,
   "id": "517eb4a8",
   "metadata": {},
   "outputs": [
    {
     "data": {
      "text/plain": [
       "[33, 10, 10, 2, 2, 342, 32, 'Shyam', 5, 4, 3, 2, 1, 3]"
      ]
     },
     "execution_count": 45,
     "metadata": {},
     "output_type": "execute_result"
    }
   ],
   "source": [
    "L\n"
   ]
  },
  {
   "cell_type": "code",
   "execution_count": 19,
   "id": "2a10de0b",
   "metadata": {},
   "outputs": [],
   "source": [
    "L.pop?\n"
   ]
  },
  {
   "cell_type": "code",
   "execution_count": 46,
   "id": "12b8b88a",
   "metadata": {},
   "outputs": [
    {
     "data": {
      "text/plain": [
       "10"
      ]
     },
     "execution_count": 46,
     "metadata": {},
     "output_type": "execute_result"
    }
   ],
   "source": [
    "L.pop(L[3])"
   ]
  },
  {
   "cell_type": "code",
   "execution_count": 47,
   "id": "79da1379",
   "metadata": {},
   "outputs": [
    {
     "data": {
      "text/plain": [
       "[33, 10, 2, 2, 342, 32, 'Shyam', 5, 4, 3, 2, 1, 3]"
      ]
     },
     "execution_count": 47,
     "metadata": {},
     "output_type": "execute_result"
    }
   ],
   "source": [
    "L\n"
   ]
  },
  {
   "cell_type": "code",
   "execution_count": 48,
   "id": "5dffd56a",
   "metadata": {},
   "outputs": [],
   "source": [
    "L.reverse()"
   ]
  },
  {
   "cell_type": "code",
   "execution_count": 49,
   "id": "a91707a2",
   "metadata": {},
   "outputs": [
    {
     "data": {
      "text/plain": [
       "[3, 1, 2, 3, 4, 5, 'Shyam', 32, 342, 2, 2, 10, 33]"
      ]
     },
     "execution_count": 49,
     "metadata": {},
     "output_type": "execute_result"
    }
   ],
   "source": [
    "L\n"
   ]
  },
  {
   "cell_type": "code",
   "execution_count": 25,
   "id": "0854f616",
   "metadata": {},
   "outputs": [
    {
     "data": {
      "text/plain": [
       "[33, 10, 10, 2, 2, 342, 32, 'Shyam', 5, 4, 3, 2, 1]"
      ]
     },
     "execution_count": 25,
     "metadata": {},
     "output_type": "execute_result"
    }
   ],
   "source": [
    "L"
   ]
  },
  {
   "cell_type": "code",
   "execution_count": 27,
   "id": "6d69ae75",
   "metadata": {},
   "outputs": [],
   "source": [
    "T = (1,2,3,4,5)"
   ]
  },
  {
   "cell_type": "code",
   "execution_count": 28,
   "id": "c0511734",
   "metadata": {},
   "outputs": [
    {
     "data": {
      "text/plain": [
       "(1, 2, 3, 4, 5)"
      ]
     },
     "execution_count": 28,
     "metadata": {},
     "output_type": "execute_result"
    }
   ],
   "source": [
    "T"
   ]
  },
  {
   "cell_type": "code",
   "execution_count": 29,
   "id": "e33f975f",
   "metadata": {},
   "outputs": [],
   "source": [
    "D = {23:\"ram\",'B':22,30:\"shyam\",\"C\":43}"
   ]
  },
  {
   "cell_type": "code",
   "execution_count": 30,
   "id": "e3de1636",
   "metadata": {},
   "outputs": [
    {
     "data": {
      "text/plain": [
       "{23: 'ram', 'B': 22, 30: 'shyam', 'C': 43}"
      ]
     },
     "execution_count": 30,
     "metadata": {},
     "output_type": "execute_result"
    }
   ],
   "source": [
    "D"
   ]
  },
  {
   "cell_type": "code",
   "execution_count": 31,
   "id": "c4869607",
   "metadata": {},
   "outputs": [],
   "source": [
    "D2 = {\"A\":L,\"B\":T,\"C\":D}"
   ]
  },
  {
   "cell_type": "code",
   "execution_count": 32,
   "id": "67961df9",
   "metadata": {},
   "outputs": [
    {
     "data": {
      "text/plain": [
       "{'A': [33, 10, 10, 2, 2, 342, 32, 'Shyam', 5, 4, 3, 2, 1],\n",
       " 'B': (1, 2, 3, 4, 5),\n",
       " 'C': {23: 'ram', 'B': 22, 30: 'shyam', 'C': 43}}"
      ]
     },
     "execution_count": 32,
     "metadata": {},
     "output_type": "execute_result"
    }
   ],
   "source": [
    "D2"
   ]
  },
  {
   "cell_type": "code",
   "execution_count": 52,
   "id": "1c024cb1",
   "metadata": {},
   "outputs": [
    {
     "data": {
      "text/plain": [
       "[3, 1, 2, 3, 4, 5, 'Shyam', 32, 342, 2, 2, 10, 33]"
      ]
     },
     "execution_count": 52,
     "metadata": {},
     "output_type": "execute_result"
    }
   ],
   "source": [
    "D2[\"A\"]"
   ]
  },
  {
   "cell_type": "code",
   "execution_count": 53,
   "id": "4042c809",
   "metadata": {},
   "outputs": [
    {
     "data": {
      "text/plain": [
       "[3, 1, 2, 3, 4, 5, 'Shyam', 32, 342, 2, 2, 10, 33]"
      ]
     },
     "execution_count": 53,
     "metadata": {},
     "output_type": "execute_result"
    }
   ],
   "source": [
    "D2[\"A\"]"
   ]
  },
  {
   "cell_type": "code",
   "execution_count": 54,
   "id": "dd32a3ff",
   "metadata": {},
   "outputs": [
    {
     "data": {
      "text/plain": [
       "3"
      ]
     },
     "execution_count": 54,
     "metadata": {},
     "output_type": "execute_result"
    }
   ],
   "source": [
    "D2[\"A\"][3]"
   ]
  },
  {
   "cell_type": "code",
   "execution_count": 55,
   "id": "7abdda36",
   "metadata": {},
   "outputs": [],
   "source": [
    "k = D2[\"A\"]"
   ]
  },
  {
   "cell_type": "code",
   "execution_count": 56,
   "id": "6e703af6",
   "metadata": {},
   "outputs": [
    {
     "data": {
      "text/plain": [
       "[3, 1, 2, 3, 4, 5, 'Shyam', 32, 342, 2, 2, 10, 33]"
      ]
     },
     "execution_count": 56,
     "metadata": {},
     "output_type": "execute_result"
    }
   ],
   "source": [
    "k"
   ]
  },
  {
   "cell_type": "code",
   "execution_count": 59,
   "id": "1d48e2a3",
   "metadata": {},
   "outputs": [
    {
     "name": "stdout",
     "output_type": "stream",
     "text": [
      "3 3\n",
      "1 1\n",
      "2 2\n",
      "3 3\n",
      "4 4\n",
      "5 5\n"
     ]
    },
    {
     "ename": "TypeError",
     "evalue": "list indices must be integers or slices, not str",
     "output_type": "error",
     "traceback": [
      "\u001b[0;31m---------------------------------------------------------------------------\u001b[0m",
      "\u001b[0;31mTypeError\u001b[0m                                 Traceback (most recent call last)",
      "Input \u001b[0;32mIn [59]\u001b[0m, in \u001b[0;36m<cell line: 1>\u001b[0;34m()\u001b[0m\n\u001b[1;32m      1\u001b[0m \u001b[38;5;28;01mfor\u001b[39;00m i \u001b[38;5;129;01min\u001b[39;00m k:\n\u001b[0;32m----> 2\u001b[0m     \u001b[38;5;28mprint\u001b[39m(i,\u001b[43mk\u001b[49m\u001b[43m[\u001b[49m\u001b[43mi\u001b[49m\u001b[43m]\u001b[49m)\n",
      "\u001b[0;31mTypeError\u001b[0m: list indices must be integers or slices, not str"
     ]
    }
   ],
   "source": [
    "for i in k:\n",
    "    print(i,k[i])"
   ]
  },
  {
   "cell_type": "code",
   "execution_count": 62,
   "id": "a67b2a15",
   "metadata": {},
   "outputs": [],
   "source": [
    "L3 = [x**2 for x in range(2,30,2)]"
   ]
  },
  {
   "cell_type": "code",
   "execution_count": 63,
   "id": "bb327d60",
   "metadata": {},
   "outputs": [
    {
     "data": {
      "text/plain": [
       "[4, 16, 36, 64, 100, 144, 196, 256, 324, 400, 484, 576, 676, 784]"
      ]
     },
     "execution_count": 63,
     "metadata": {},
     "output_type": "execute_result"
    }
   ],
   "source": [
    "L3"
   ]
  },
  {
   "cell_type": "code",
   "execution_count": 73,
   "id": "7be382e8",
   "metadata": {},
   "outputs": [],
   "source": [
    "\"\"\"Lets say you are a teacher and you have diferent records containing id of students and thre marks\n",
    "list in each subject where different student have taken different number of subjects and all these\n",
    "records are in hard copy. you want to enter all the data in computer and want to compute\n",
    "the average marks of each student and display\"\"\"\n",
    "\n",
    "def getDataFromUser():\n",
    "    D ={}\n",
    "    while True:\n",
    "        studentId = input(\"Enter student ID: \")\n",
    "        marksList = input(\"Enter the marks by comma seperated values\")\n",
    "        moreStudent = input(\"Enter no to quit insertion:\")\n",
    "        if studentId in D:\n",
    "            print(studentId, \"is already inserted\")\n",
    "        else:\n",
    "            D[studentId] = marksList.split(\",\")\n",
    "        if moreStudent.lower() == \"no\":\n",
    "            return D\n"
   ]
  },
  {
   "cell_type": "code",
   "execution_count": 76,
   "id": "6bae6ca3",
   "metadata": {},
   "outputs": [
    {
     "name": "stdout",
     "output_type": "stream",
     "text": [
      "Enter student ID: 3\n",
      "Enter the marks by comma seperated values47,57,67,77,87\n",
      "Enter no to quit insertion:no\n"
     ]
    }
   ],
   "source": [
    "studentData = getDataFromUser()"
   ]
  },
  {
   "cell_type": "code",
   "execution_count": 93,
   "id": "f4ee391b",
   "metadata": {},
   "outputs": [
    {
     "data": {
      "text/plain": [
       "{'3': ['47', '57', '67', '77', '87']}"
      ]
     },
     "execution_count": 93,
     "metadata": {},
     "output_type": "execute_result"
    }
   ],
   "source": [
    "studentData\n"
   ]
  },
  {
   "cell_type": "code",
   "execution_count": 89,
   "id": "a01d9eed",
   "metadata": {},
   "outputs": [],
   "source": [
    "def getAverageMarks(D):\n",
    "    avgMarks = {}\n",
    "    for x in D:\n",
    "        L = D[x]\n",
    "        sum = 0\n",
    "        for marks in L:\n",
    "            sum += int(marks)\n",
    "        avgMarks[x] = sum/len(L)\n",
    "    return avgMarks\n",
    "        "
   ]
  },
  {
   "cell_type": "code",
   "execution_count": 90,
   "id": "2967fb0e",
   "metadata": {},
   "outputs": [],
   "source": [
    "avgM = getAverageMarks(studentData)"
   ]
  },
  {
   "cell_type": "code",
   "execution_count": 91,
   "id": "3b82d462",
   "metadata": {},
   "outputs": [
    {
     "name": "stdout",
     "output_type": "stream",
     "text": [
      "Student : 3 got average Marks as: 67.0\n"
     ]
    }
   ],
   "source": [
    "for x in avgM:\n",
    "    print(\"Student :\",x,\"got average Marks as:\", avgM[x])"
   ]
  },
  {
   "cell_type": "code",
   "execution_count": null,
   "id": "8296cca2",
   "metadata": {},
   "outputs": [],
   "source": []
  }
 ],
 "metadata": {
  "kernelspec": {
   "display_name": "Python 3 (ipykernel)",
   "language": "python",
   "name": "python3"
  },
  "language_info": {
   "codemirror_mode": {
    "name": "ipython",
    "version": 3
   },
   "file_extension": ".py",
   "mimetype": "text/x-python",
   "name": "python",
   "nbconvert_exporter": "python",
   "pygments_lexer": "ipython3",
   "version": "3.9.12"
  }
 },
 "nbformat": 4,
 "nbformat_minor": 5
}
