{
 "cells": [
  {
   "cell_type": "code",
   "execution_count": 1,
   "id": "fe823dba",
   "metadata": {},
   "outputs": [],
   "source": [
    "import numpy as np\n"
   ]
  },
  {
   "cell_type": "code",
   "execution_count": 2,
   "id": "3876369f",
   "metadata": {},
   "outputs": [],
   "source": [
    "a = np.array([1,3,5,7,8])"
   ]
  },
  {
   "cell_type": "code",
   "execution_count": 3,
   "id": "498a809f",
   "metadata": {},
   "outputs": [],
   "source": [
    "b = np.array([2,3,5,7,8])\n"
   ]
  },
  {
   "cell_type": "code",
   "execution_count": 4,
   "id": "47ba46cd",
   "metadata": {},
   "outputs": [
    {
     "data": {
      "text/plain": [
       "numpy.ndarray"
      ]
     },
     "execution_count": 4,
     "metadata": {},
     "output_type": "execute_result"
    }
   ],
   "source": [
    "type(b)"
   ]
  },
  {
   "cell_type": "code",
   "execution_count": null,
   "id": "c7010b1f",
   "metadata": {},
   "outputs": [],
   "source": []
  }
 ],
 "metadata": {
  "kernelspec": {
   "display_name": "Python 3 (ipykernel)",
   "language": "python",
   "name": "python3"
  },
  "language_info": {
   "codemirror_mode": {
    "name": "ipython",
    "version": 3
   },
   "file_extension": ".py",
   "mimetype": "text/x-python",
   "name": "python",
   "nbconvert_exporter": "python",
   "pygments_lexer": "ipython3",
   "version": "3.9.12"
  }
 },
 "nbformat": 4,
 "nbformat_minor": 5
}
