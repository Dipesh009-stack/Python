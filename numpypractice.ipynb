{
 "cells": [
  {
   "cell_type": "code",
   "execution_count": 6,
   "id": "fe823dba",
   "metadata": {},
   "outputs": [],
   "source": [
    "import numpy as np\n"
   ]
  },
  {
   "cell_type": "code",
   "execution_count": 13,
   "id": "3876369f",
   "metadata": {},
   "outputs": [],
   "source": [
    "a = np.array([1,3,5,7,8],dtype=\"i\")"
   ]
  },
  {
   "cell_type": "code",
   "execution_count": 8,
   "id": "498a809f",
   "metadata": {},
   "outputs": [],
   "source": [
    "b = np.array([2,3,5,7,8])\n"
   ]
  },
  {
   "cell_type": "code",
   "execution_count": 9,
   "id": "47ba46cd",
   "metadata": {},
   "outputs": [
    {
     "data": {
      "text/plain": [
       "numpy.ndarray"
      ]
     },
     "execution_count": 9,
     "metadata": {},
     "output_type": "execute_result"
    }
   ],
   "source": [
    "type(b)"
   ]
  },
  {
   "cell_type": "code",
   "execution_count": 15,
   "id": "c7010b1f",
   "metadata": {},
   "outputs": [],
   "source": [
    "c = np.array((2,4,6,7),dtype='f')"
   ]
  },
  {
   "cell_type": "code",
   "execution_count": 11,
   "id": "823d632c",
   "metadata": {},
   "outputs": [
    {
     "name": "stdout",
     "output_type": "stream",
     "text": [
      "[2 4 6 7]\n"
     ]
    }
   ],
   "source": [
    "print(c)"
   ]
  },
  {
   "cell_type": "code",
   "execution_count": 18,
   "id": "548c3ebe",
   "metadata": {},
   "outputs": [
    {
     "data": {
      "text/plain": [
       "dtype('float32')"
      ]
     },
     "execution_count": 18,
     "metadata": {},
     "output_type": "execute_result"
    }
   ],
   "source": [
    "c.dtype"
   ]
  },
  {
   "cell_type": "code",
   "execution_count": 20,
   "id": "1f9ac862",
   "metadata": {},
   "outputs": [],
   "source": [
    "a= np.array([[1,2,3],[4,5,6]])"
   ]
  },
  {
   "cell_type": "code",
   "execution_count": 21,
   "id": "9353d8c1",
   "metadata": {},
   "outputs": [
    {
     "data": {
      "text/plain": [
       "2"
      ]
     },
     "execution_count": 21,
     "metadata": {},
     "output_type": "execute_result"
    }
   ],
   "source": [
    "a.ndim"
   ]
  },
  {
   "cell_type": "code",
   "execution_count": 22,
   "id": "cfc0f5b6",
   "metadata": {},
   "outputs": [
    {
     "data": {
      "text/plain": [
       "3"
      ]
     },
     "execution_count": 22,
     "metadata": {},
     "output_type": "execute_result"
    }
   ],
   "source": [
    "a[0,2]"
   ]
  },
  {
   "cell_type": "code",
   "execution_count": 33,
   "id": "b3d3c318",
   "metadata": {},
   "outputs": [],
   "source": [
    "B= np.array([[1,4,5],[6,4,5]])"
   ]
  },
  {
   "cell_type": "code",
   "execution_count": 34,
   "id": "6b9ba00e",
   "metadata": {},
   "outputs": [
    {
     "data": {
      "text/plain": [
       "2"
      ]
     },
     "execution_count": 34,
     "metadata": {},
     "output_type": "execute_result"
    }
   ],
   "source": [
    "B.ndim"
   ]
  },
  {
   "cell_type": "code",
   "execution_count": 35,
   "id": "be2171c2",
   "metadata": {},
   "outputs": [
    {
     "data": {
      "text/plain": [
       "5"
      ]
     },
     "execution_count": 35,
     "metadata": {},
     "output_type": "execute_result"
    }
   ],
   "source": [
    "B[1,2]"
   ]
  },
  {
   "cell_type": "code",
   "execution_count": 39,
   "id": "7d1818b7",
   "metadata": {},
   "outputs": [],
   "source": [
    "c = np.array([[[1,2,3],[4,5,6],[0,0,-1]],[[-1,-2,-3],[-4,-5,-6],[0,0,1]]])"
   ]
  },
  {
   "cell_type": "code",
   "execution_count": 40,
   "id": "d65b7860",
   "metadata": {},
   "outputs": [
    {
     "data": {
      "text/plain": [
       "3"
      ]
     },
     "execution_count": 40,
     "metadata": {},
     "output_type": "execute_result"
    }
   ],
   "source": [
    "c.ndim"
   ]
  },
  {
   "cell_type": "code",
   "execution_count": 41,
   "id": "2e3777b1",
   "metadata": {},
   "outputs": [
    {
     "data": {
      "text/plain": [
       "-3"
      ]
     },
     "execution_count": 41,
     "metadata": {},
     "output_type": "execute_result"
    }
   ],
   "source": [
    "c[1,0,2]"
   ]
  },
  {
   "cell_type": "code",
   "execution_count": 42,
   "id": "ef6ca5af",
   "metadata": {},
   "outputs": [
    {
     "data": {
      "text/plain": [
       "numpy.ndarray"
      ]
     },
     "execution_count": 42,
     "metadata": {},
     "output_type": "execute_result"
    }
   ],
   "source": [
    "type(c)"
   ]
  },
  {
   "cell_type": "code",
   "execution_count": 43,
   "id": "19943355",
   "metadata": {},
   "outputs": [
    {
     "data": {
      "text/plain": [
       "(2, 3, 3)"
      ]
     },
     "execution_count": 43,
     "metadata": {},
     "output_type": "execute_result"
    }
   ],
   "source": [
    "c.shape"
   ]
  },
  {
   "cell_type": "code",
   "execution_count": 44,
   "id": "d395c440",
   "metadata": {},
   "outputs": [
    {
     "data": {
      "text/plain": [
       "3"
      ]
     },
     "execution_count": 44,
     "metadata": {},
     "output_type": "execute_result"
    }
   ],
   "source": [
    "c.shape[2]"
   ]
  },
  {
   "cell_type": "code",
   "execution_count": 45,
   "id": "c72481ef",
   "metadata": {},
   "outputs": [],
   "source": [
    "A = np.array([2])"
   ]
  },
  {
   "cell_type": "code",
   "execution_count": 46,
   "id": "20f12c11",
   "metadata": {},
   "outputs": [
    {
     "data": {
      "text/plain": [
       "2"
      ]
     },
     "execution_count": 46,
     "metadata": {},
     "output_type": "execute_result"
    }
   ],
   "source": [
    "a.ndim"
   ]
  },
  {
   "cell_type": "code",
   "execution_count": 47,
   "id": "30408ec4",
   "metadata": {},
   "outputs": [
    {
     "data": {
      "text/plain": [
       "1"
      ]
     },
     "execution_count": 47,
     "metadata": {},
     "output_type": "execute_result"
    }
   ],
   "source": [
    "A.ndim"
   ]
  },
  {
   "cell_type": "code",
   "execution_count": 48,
   "id": "10a8aa7b",
   "metadata": {},
   "outputs": [
    {
     "data": {
      "text/plain": [
       "18"
      ]
     },
     "execution_count": 48,
     "metadata": {},
     "output_type": "execute_result"
    }
   ],
   "source": [
    "c.size\n"
   ]
  },
  {
   "cell_type": "code",
   "execution_count": 49,
   "id": "b741e043",
   "metadata": {},
   "outputs": [
    {
     "data": {
      "text/plain": [
       "72"
      ]
     },
     "execution_count": 49,
     "metadata": {},
     "output_type": "execute_result"
    }
   ],
   "source": [
    "c.nbytes\n"
   ]
  },
  {
   "cell_type": "code",
   "execution_count": 50,
   "id": "dd60df26",
   "metadata": {},
   "outputs": [
    {
     "data": {
      "text/plain": [
       "<function ndarray.min>"
      ]
     },
     "execution_count": 50,
     "metadata": {},
     "output_type": "execute_result"
    }
   ],
   "source": [
    "c.min"
   ]
  },
  {
   "cell_type": "code",
   "execution_count": 51,
   "id": "8afdd711",
   "metadata": {},
   "outputs": [],
   "source": [
    " Z= np.arange(20)"
   ]
  },
  {
   "cell_type": "code",
   "execution_count": 52,
   "id": "a86c1634",
   "metadata": {},
   "outputs": [
    {
     "ename": "NameError",
     "evalue": "name 'z' is not defined",
     "output_type": "error",
     "traceback": [
      "\u001b[1;31m---------------------------------------------------------------------------\u001b[0m",
      "\u001b[1;31mNameError\u001b[0m                                 Traceback (most recent call last)",
      "Input \u001b[1;32mIn [52]\u001b[0m, in \u001b[0;36m<cell line: 1>\u001b[1;34m()\u001b[0m\n\u001b[1;32m----> 1\u001b[0m \u001b[43mz\u001b[49m\n",
      "\u001b[1;31mNameError\u001b[0m: name 'z' is not defined"
     ]
    }
   ],
   "source": [
    "z"
   ]
  },
  {
   "cell_type": "code",
   "execution_count": 53,
   "id": "ec2d0878",
   "metadata": {},
   "outputs": [
    {
     "data": {
      "text/plain": [
       "array([ 0,  1,  2,  3,  4,  5,  6,  7,  8,  9, 10, 11, 12, 13, 14, 15, 16,\n",
       "       17, 18, 19])"
      ]
     },
     "execution_count": 53,
     "metadata": {},
     "output_type": "execute_result"
    }
   ],
   "source": [
    "Z"
   ]
  },
  {
   "cell_type": "code",
   "execution_count": 54,
   "id": "94898ea9",
   "metadata": {},
   "outputs": [
    {
     "name": "stdout",
     "output_type": "stream",
     "text": [
      "[ 0  1  2  3  4  5  6  7  8  9 10 11 12 13 14 15 16 17 18 19]\n"
     ]
    }
   ],
   "source": [
    "print(Z)"
   ]
  },
  {
   "cell_type": "code",
   "execution_count": 55,
   "id": "c0878403",
   "metadata": {},
   "outputs": [
    {
     "data": {
      "text/plain": [
       "numpy.ndarray"
      ]
     },
     "execution_count": 55,
     "metadata": {},
     "output_type": "execute_result"
    }
   ],
   "source": [
    "type(Z)"
   ]
  },
  {
   "cell_type": "code",
   "execution_count": 56,
   "id": "c866d968",
   "metadata": {},
   "outputs": [],
   "source": [
    "Z = np.random.permutation(np.arange(10))"
   ]
  },
  {
   "cell_type": "code",
   "execution_count": 57,
   "id": "c72c9d92",
   "metadata": {},
   "outputs": [
    {
     "name": "stdout",
     "output_type": "stream",
     "text": [
      "[6 2 3 9 7 4 8 1 5 0]\n"
     ]
    }
   ],
   "source": [
    "print(Z)"
   ]
  },
  {
   "cell_type": "code",
   "execution_count": 59,
   "id": "d2f363e6",
   "metadata": {},
   "outputs": [],
   "source": [
    "v = np.random.randint(20,30)"
   ]
  },
  {
   "cell_type": "code",
   "execution_count": 60,
   "id": "6c9a6bff",
   "metadata": {},
   "outputs": [
    {
     "data": {
      "text/plain": [
       "29"
      ]
     },
     "execution_count": 60,
     "metadata": {},
     "output_type": "execute_result"
    }
   ],
   "source": [
    "v"
   ]
  },
  {
   "cell_type": "code",
   "execution_count": 61,
   "id": "cfe5d6b5",
   "metadata": {},
   "outputs": [],
   "source": [
    "A = np.random.rand(1000)"
   ]
  },
  {
   "cell_type": "code",
   "execution_count": 63,
   "id": "36172e37",
   "metadata": {},
   "outputs": [],
   "source": [
    "import matplotlib.pyplot as plt\n"
   ]
  },
  {
   "cell_type": "code",
   "execution_count": 65,
   "id": "ee8be47a",
   "metadata": {},
   "outputs": [
    {
     "data": {
      "text/plain": [
       "(array([11., 15.,  7., 12., 12.,  4., 12., 11., 15.,  7.,  8.,  8.,  6.,\n",
       "        13., 15., 11.,  7.,  8., 10., 12., 11.,  9., 12.,  9., 11.,  9.,\n",
       "        14., 10., 10., 11., 14., 11., 15.,  9., 14.,  8., 12.,  7., 14.,\n",
       "        10., 11., 11., 10., 12., 10., 11., 12.,  9.,  5.,  9., 13., 11.,\n",
       "         7., 13.,  5.,  6.,  7.,  9., 11.,  9., 12.,  8., 11.,  3.,  7.,\n",
       "        14.,  6., 12.,  9., 11.,  7., 15., 10., 10.,  5.,  7.,  7.,  7.,\n",
       "         8., 12., 10.,  9., 11., 13., 13.,  7.,  8.,  5.,  8.,  5., 14.,\n",
       "        10., 10., 10., 15., 10., 14., 11.,  9., 12.]),\n",
       " array([3.02610098e-04, 1.02744965e-02, 2.02463829e-02, 3.02182693e-02,\n",
       "        4.01901556e-02, 5.01620420e-02, 6.01339284e-02, 7.01058148e-02,\n",
       "        8.00777012e-02, 9.00495876e-02, 1.00021474e-01, 1.09993360e-01,\n",
       "        1.19965247e-01, 1.29937133e-01, 1.39909019e-01, 1.49880906e-01,\n",
       "        1.59852792e-01, 1.69824679e-01, 1.79796565e-01, 1.89768451e-01,\n",
       "        1.99740338e-01, 2.09712224e-01, 2.19684111e-01, 2.29655997e-01,\n",
       "        2.39627883e-01, 2.49599770e-01, 2.59571656e-01, 2.69543542e-01,\n",
       "        2.79515429e-01, 2.89487315e-01, 2.99459202e-01, 3.09431088e-01,\n",
       "        3.19402974e-01, 3.29374861e-01, 3.39346747e-01, 3.49318634e-01,\n",
       "        3.59290520e-01, 3.69262406e-01, 3.79234293e-01, 3.89206179e-01,\n",
       "        3.99178065e-01, 4.09149952e-01, 4.19121838e-01, 4.29093725e-01,\n",
       "        4.39065611e-01, 4.49037497e-01, 4.59009384e-01, 4.68981270e-01,\n",
       "        4.78953157e-01, 4.88925043e-01, 4.98896929e-01, 5.08868816e-01,\n",
       "        5.18840702e-01, 5.28812588e-01, 5.38784475e-01, 5.48756361e-01,\n",
       "        5.58728248e-01, 5.68700134e-01, 5.78672020e-01, 5.88643907e-01,\n",
       "        5.98615793e-01, 6.08587680e-01, 6.18559566e-01, 6.28531452e-01,\n",
       "        6.38503339e-01, 6.48475225e-01, 6.58447111e-01, 6.68418998e-01,\n",
       "        6.78390884e-01, 6.88362771e-01, 6.98334657e-01, 7.08306543e-01,\n",
       "        7.18278430e-01, 7.28250316e-01, 7.38222203e-01, 7.48194089e-01,\n",
       "        7.58165975e-01, 7.68137862e-01, 7.78109748e-01, 7.88081634e-01,\n",
       "        7.98053521e-01, 8.08025407e-01, 8.17997294e-01, 8.27969180e-01,\n",
       "        8.37941066e-01, 8.47912953e-01, 8.57884839e-01, 8.67856726e-01,\n",
       "        8.77828612e-01, 8.87800498e-01, 8.97772385e-01, 9.07744271e-01,\n",
       "        9.17716157e-01, 9.27688044e-01, 9.37659930e-01, 9.47631817e-01,\n",
       "        9.57603703e-01, 9.67575589e-01, 9.77547476e-01, 9.87519362e-01,\n",
       "        9.97491249e-01]),\n",
       " <BarContainer object of 100 artists>)"
      ]
     },
     "execution_count": 65,
     "metadata": {},
     "output_type": "execute_result"
    },
    {
     "data": {
      "image/png": "[encoded data removed]",
      "text/plain": [
       "<Figure size 432x288 with 1 Axes>"
      ]
     },
     "metadata": {
      "needs_background": "light"
     },
     "output_type": "display_data"
    }
   ],
   "source": [
    "plt.hist(A, bins=100)"
   ]
  },
  {
   "cell_type": "code",
   "execution_count": 67,
   "id": "886b555d",
   "metadata": {},
   "outputs": [
    {
     "data": {
      "text/plain": [
       "(array([1.000e+00, 1.000e+00, 0.000e+00, 1.000e+00, 0.000e+00, 1.000e+00,\n",
       "        0.000e+00, 1.000e+00, 0.000e+00, 1.000e+00, 2.000e+00, 1.000e+00,\n",
       "        3.000e+00, 1.000e+00, 1.000e+00, 0.000e+00, 1.000e+00, 4.000e+00,\n",
       "        2.000e+00, 0.000e+00, 5.000e+00, 5.000e+00, 5.000e+00, 1.000e+01,\n",
       "        1.200e+01, 8.000e+00, 1.100e+01, 1.700e+01, 3.000e+00, 1.900e+01,\n",
       "        1.900e+01, 1.600e+01, 1.700e+01, 3.000e+01, 2.700e+01, 2.600e+01,\n",
       "        3.800e+01, 5.800e+01, 3.600e+01, 5.700e+01, 7.900e+01, 7.700e+01,\n",
       "        7.000e+01, 7.500e+01, 8.200e+01, 8.900e+01, 9.800e+01, 1.110e+02,\n",
       "        1.400e+02, 1.380e+02, 1.570e+02, 1.720e+02, 1.990e+02, 2.220e+02,\n",
       "        2.380e+02, 2.190e+02, 2.680e+02, 2.930e+02, 3.190e+02, 3.170e+02,\n",
       "        3.490e+02, 3.670e+02, 4.370e+02, 4.500e+02, 4.810e+02, 5.000e+02,\n",
       "        5.360e+02, 5.610e+02, 6.610e+02, 6.160e+02, 6.860e+02, 7.110e+02,\n",
       "        8.090e+02, 8.400e+02, 8.300e+02, 9.270e+02, 9.590e+02, 1.030e+03,\n",
       "        9.420e+02, 1.042e+03, 1.124e+03, 1.155e+03, 1.171e+03, 1.279e+03,\n",
       "        1.258e+03, 1.303e+03, 1.363e+03, 1.462e+03, 1.429e+03, 1.435e+03,\n",
       "        1.486e+03, 1.540e+03, 1.511e+03, 1.583e+03, 1.610e+03, 1.599e+03,\n",
       "        1.631e+03, 1.610e+03, 1.677e+03, 1.722e+03, 1.623e+03, 1.748e+03,\n",
       "        1.680e+03, 1.641e+03, 1.650e+03, 1.673e+03, 1.677e+03, 1.605e+03,\n",
       "        1.639e+03, 1.587e+03, 1.684e+03, 1.536e+03, 1.521e+03, 1.534e+03,\n",
       "        1.438e+03, 1.423e+03, 1.365e+03, 1.376e+03, 1.313e+03, 1.284e+03,\n",
       "        1.208e+03, 1.157e+03, 1.106e+03, 1.144e+03, 1.105e+03, 1.017e+03,\n",
       "        1.004e+03, 9.740e+02, 8.900e+02, 8.330e+02, 8.280e+02, 8.330e+02,\n",
       "        7.700e+02, 7.070e+02, 6.340e+02, 5.580e+02, 6.230e+02, 5.460e+02,\n",
       "        5.550e+02, 4.930e+02, 4.730e+02, 4.350e+02, 4.170e+02, 3.580e+02,\n",
       "        3.430e+02, 3.120e+02, 2.740e+02, 2.420e+02, 2.420e+02, 2.270e+02,\n",
       "        1.900e+02, 2.120e+02, 1.720e+02, 1.610e+02, 1.490e+02, 1.370e+02,\n",
       "        1.150e+02, 1.060e+02, 1.030e+02, 1.020e+02, 7.500e+01, 7.700e+01,\n",
       "        7.200e+01, 5.600e+01, 6.200e+01, 5.300e+01, 5.400e+01, 3.900e+01,\n",
       "        3.000e+01, 3.000e+01, 2.700e+01, 2.300e+01, 2.400e+01, 1.900e+01,\n",
       "        2.000e+01, 7.000e+00, 8.000e+00, 1.800e+01, 7.000e+00, 8.000e+00,\n",
       "        8.000e+00, 8.000e+00, 4.000e+00, 5.000e+00, 4.000e+00, 6.000e+00,\n",
       "        3.000e+00, 1.000e+00, 5.000e+00, 2.000e+00, 2.000e+00, 2.000e+00,\n",
       "        2.000e+00, 0.000e+00, 0.000e+00, 1.000e+00, 0.000e+00, 0.000e+00,\n",
       "        0.000e+00, 1.000e+00]),\n",
       " array([-4.29564046, -4.25357231, -4.21150415, -4.16943599, -4.12736783,\n",
       "        -4.08529968, -4.04323152, -4.00116336, -3.9590952 , -3.91702705,\n",
       "        -3.87495889, -3.83289073, -3.79082258, -3.74875442, -3.70668626,\n",
       "        -3.6646181 , -3.62254995, -3.58048179, -3.53841363, -3.49634547,\n",
       "        -3.45427732, -3.41220916, -3.370141  , -3.32807285, -3.28600469,\n",
       "        -3.24393653, -3.20186837, -3.15980022, -3.11773206, -3.0756639 ,\n",
       "        -3.03359574, -2.99152759, -2.94945943, -2.90739127, -2.86532312,\n",
       "        -2.82325496, -2.7811868 , -2.73911864, -2.69705049, -2.65498233,\n",
       "        -2.61291417, -2.57084602, -2.52877786, -2.4867097 , -2.44464154,\n",
       "        -2.40257339, -2.36050523, -2.31843707, -2.27636891, -2.23430076,\n",
       "        -2.1922326 , -2.15016444, -2.10809629, -2.06602813, -2.02395997,\n",
       "        -1.98189181, -1.93982366, -1.8977555 , -1.85568734, -1.81361918,\n",
       "        -1.77155103, -1.72948287, -1.68741471, -1.64534656, -1.6032784 ,\n",
       "        -1.56121024, -1.51914208, -1.47707393, -1.43500577, -1.39293761,\n",
       "        -1.35086945, -1.3088013 , -1.26673314, -1.22466498, -1.18259683,\n",
       "        -1.14052867, -1.09846051, -1.05639235, -1.0143242 , -0.97225604,\n",
       "        -0.93018788, -0.88811972, -0.84605157, -0.80398341, -0.76191525,\n",
       "        -0.7198471 , -0.67777894, -0.63571078, -0.59364262, -0.55157447,\n",
       "        -0.50950631, -0.46743815, -0.42536999, -0.38330184, -0.34123368,\n",
       "        -0.29916552, -0.25709737, -0.21502921, -0.17296105, -0.13089289,\n",
       "        -0.08882474, -0.04675658, -0.00468842,  0.03737974,  0.07944789,\n",
       "         0.12151605,  0.16358421,  0.20565236,  0.24772052,  0.28978868,\n",
       "         0.33185684,  0.37392499,  0.41599315,  0.45806131,  0.50012946,\n",
       "         0.54219762,  0.58426578,  0.62633394,  0.66840209,  0.71047025,\n",
       "         0.75253841,  0.79460657,  0.83667472,  0.87874288,  0.92081104,\n",
       "         0.96287919,  1.00494735,  1.04701551,  1.08908367,  1.13115182,\n",
       "         1.17321998,  1.21528814,  1.2573563 ,  1.29942445,  1.34149261,\n",
       "         1.38356077,  1.42562892,  1.46769708,  1.50976524,  1.5518334 ,\n",
       "         1.59390155,  1.63596971,  1.67803787,  1.72010603,  1.76217418,\n",
       "         1.80424234,  1.8463105 ,  1.88837865,  1.93044681,  1.97251497,\n",
       "         2.01458313,  2.05665128,  2.09871944,  2.1407876 ,  2.18285576,\n",
       "         2.22492391,  2.26699207,  2.30906023,  2.35112838,  2.39319654,\n",
       "         2.4352647 ,  2.47733286,  2.51940101,  2.56146917,  2.60353733,\n",
       "         2.64560549,  2.68767364,  2.7297418 ,  2.77180996,  2.81387811,\n",
       "         2.85594627,  2.89801443,  2.94008259,  2.98215074,  3.0242189 ,\n",
       "         3.06628706,  3.10835522,  3.15042337,  3.19249153,  3.23455969,\n",
       "         3.27662784,  3.318696  ,  3.36076416,  3.40283232,  3.44490047,\n",
       "         3.48696863,  3.52903679,  3.57110495,  3.6131731 ,  3.65524126,\n",
       "         3.69730942,  3.73937757,  3.78144573,  3.82351389,  3.86558205,\n",
       "         3.9076502 ,  3.94971836,  3.99178652,  4.03385467,  4.07592283,\n",
       "         4.11799099]),\n",
       " <BarContainer object of 200 artists>)"
      ]
     },
     "execution_count": 67,
     "metadata": {},
     "output_type": "execute_result"
    },
    {
     "data": {
      "image/png": "[encoded data removed]",
      "text/plain": [
       "<Figure size 432x288 with 1 Axes>"
      ]
     },
     "metadata": {
      "needs_background": "light"
     },
     "output_type": "display_data"
    }
   ],
   "source": [
    "B = np.random.randn(100000)\n",
    "plt.hist(B,bins=200)"
   ]
  },
  {
   "cell_type": "code",
   "execution_count": 68,
   "id": "50392421",
   "metadata": {},
   "outputs": [
    {
     "data": {
      "text/plain": [
       "array([[0.47925048, 0.12430811, 0.09865341],\n",
       "       [0.91455492, 0.89165714, 0.8409189 ]])"
      ]
     },
     "execution_count": 68,
     "metadata": {},
     "output_type": "execute_result"
    }
   ],
   "source": [
    "C = np.random.rand(2,3)\n",
    "C"
   ]
  },
  {
   "cell_type": "code",
   "execution_count": 69,
   "id": "d6d4c5f2",
   "metadata": {},
   "outputs": [
    {
     "data": {
      "text/plain": [
       "2"
      ]
     },
     "execution_count": 69,
     "metadata": {},
     "output_type": "execute_result"
    }
   ],
   "source": [
    "C.ndim"
   ]
  },
  {
   "cell_type": "code",
   "execution_count": 70,
   "id": "1250beed",
   "metadata": {},
   "outputs": [],
   "source": [
    "C= np.random.rand(2,3,4,3)"
   ]
  },
  {
   "cell_type": "code",
   "execution_count": 71,
   "id": "b086cd2b",
   "metadata": {},
   "outputs": [
    {
     "data": {
      "text/plain": [
       "4"
      ]
     },
     "execution_count": 71,
     "metadata": {},
     "output_type": "execute_result"
    }
   ],
   "source": [
    "C.ndim"
   ]
  },
  {
   "cell_type": "code",
   "execution_count": 72,
   "id": "95ea6bc9",
   "metadata": {},
   "outputs": [],
   "source": [
    "np.shape?"
   ]
  },
  {
   "cell_type": "code",
   "execution_count": 73,
   "id": "05b7bda3",
   "metadata": {},
   "outputs": [],
   "source": [
    "A = np.arange(100)"
   ]
  },
  {
   "cell_type": "code",
   "execution_count": 78,
   "id": "84f6cda3",
   "metadata": {},
   "outputs": [
    {
     "name": "stdout",
     "output_type": "stream",
     "text": [
      "[-1200     4     5     6     7     8     9]\n"
     ]
    }
   ],
   "source": [
    "b = A[3:10].copy()\n",
    "print(b)"
   ]
  },
  {
   "cell_type": "code",
   "execution_count": 81,
   "id": "1db14830",
   "metadata": {},
   "outputs": [],
   "source": [
    "b[0] = -1200"
   ]
  },
  {
   "cell_type": "code",
   "execution_count": 80,
   "id": "0c52766b",
   "metadata": {},
   "outputs": [
    {
     "data": {
      "text/plain": [
       "array([-1200,     4,     5,     6,     7,     8,     9])"
      ]
     },
     "execution_count": 80,
     "metadata": {},
     "output_type": "execute_result"
    }
   ],
   "source": [
    "b"
   ]
  },
  {
   "cell_type": "code",
   "execution_count": 82,
   "id": "d523d370",
   "metadata": {},
   "outputs": [
    {
     "data": {
      "text/plain": [
       "array([    0,     1,     2, -1200,     4,     5,     6,     7,     8,\n",
       "           9,    10,    11,    12,    13,    14,    15,    16,    17,\n",
       "          18,    19,    20,    21,    22,    23,    24,    25,    26,\n",
       "          27,    28,    29,    30,    31,    32,    33,    34,    35,\n",
       "          36,    37,    38,    39,    40,    41,    42,    43,    44,\n",
       "          45,    46,    47,    48,    49,    50,    51,    52,    53,\n",
       "          54,    55,    56,    57,    58,    59,    60,    61,    62,\n",
       "          63,    64,    65,    66,    67,    68,    69,    70,    71,\n",
       "          72,    73,    74,    75,    76,    77,    78,    79,    80,\n",
       "          81,    82,    83,    84,    85,    86,    87,    88,    89,\n",
       "          90,    91,    92,    93,    94,    95,    96,    97,    98,\n",
       "          99])"
      ]
     },
     "execution_count": 82,
     "metadata": {},
     "output_type": "execute_result"
    }
   ],
   "source": [
    "A"
   ]
  },
  {
   "cell_type": "code",
   "execution_count": 94,
   "id": "f5ecfef6",
   "metadata": {},
   "outputs": [
    {
     "data": {
      "text/plain": [
       "array([    0,     1,     2, -1200,     4,     5,     6,     7,     8,\n",
       "           9,    10,    11,    12,    13,    14,    15,    16,    17,\n",
       "          18,    19,    20,    21,    22,    23,    24,    25,    26,\n",
       "          27,    28,    29,    30,    31,    32,    33,    34,    35,\n",
       "          36,    37,    38,    39,    40,    41,    42,    43,    44,\n",
       "          45,    46,    47,    48,    49,    50,    51,    52,    53,\n",
       "          54,    55,    56,    57,    58,    59,    60,    61,    62,\n",
       "          63,    64,    65,    66,    67,    68,    69,    70,    71,\n",
       "          72,    73,    74,    75,    76,    77,    78,    79,    80,\n",
       "          81,    82,    83,    84,    85,    86,    87,    88,    89,\n",
       "          90,    91,    92,    93,    94,    95,    96,    97,    98,\n",
       "          99])"
      ]
     },
     "execution_count": 94,
     "metadata": {},
     "output_type": "execute_result"
    }
   ],
   "source": [
    " A"
   ]
  },
  {
   "cell_type": "code",
   "execution_count": 95,
   "id": "9b6e26a2",
   "metadata": {},
   "outputs": [],
   "source": [
    "A[3]=3"
   ]
  },
  {
   "cell_type": "code",
   "execution_count": 96,
   "id": "924a1db2",
   "metadata": {},
   "outputs": [
    {
     "data": {
      "text/plain": [
       "array([ 0,  1,  2,  3,  4,  5,  6,  7,  8,  9, 10, 11, 12, 13, 14, 15, 16,\n",
       "       17, 18, 19, 20, 21, 22, 23, 24, 25, 26, 27, 28, 29, 30, 31, 32, 33,\n",
       "       34, 35, 36, 37, 38, 39, 40, 41, 42, 43, 44, 45, 46, 47, 48, 49, 50,\n",
       "       51, 52, 53, 54, 55, 56, 57, 58, 59, 60, 61, 62, 63, 64, 65, 66, 67,\n",
       "       68, 69, 70, 71, 72, 73, 74, 75, 76, 77, 78, 79, 80, 81, 82, 83, 84,\n",
       "       85, 86, 87, 88, 89, 90, 91, 92, 93, 94, 95, 96, 97, 98, 99])"
      ]
     },
     "execution_count": 96,
     "metadata": {},
     "output_type": "execute_result"
    }
   ],
   "source": [
    "A"
   ]
  },
  {
   "cell_type": "code",
   "execution_count": 98,
   "id": "13f81fcc",
   "metadata": {},
   "outputs": [],
   "source": [
    "import numpy.linalg as la\n"
   ]
  },
  {
   "cell_type": "code",
   "execution_count": null,
   "id": "ef72df76",
   "metadata": {},
   "outputs": [],
   "source": []
  }
 ],
 "metadata": {
  "kernelspec": {
   "display_name": "Python 3 (ipykernel)",
   "language": "python",
   "name": "python3"
  },
  "language_info": {
   "codemirror_mode": {
    "name": "ipython",
    "version": 3
   },
   "file_extension": ".py",
   "mimetype": "text/x-python",
   "name": "python",
   "nbconvert_exporter": "python",
   "pygments_lexer": "ipython3",
   "version": "3.9.12"
  }
 },
 "nbformat": 4,
 "nbformat_minor": 5
}
