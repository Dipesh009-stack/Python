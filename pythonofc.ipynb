{
 "cells": [
  {
   "cell_type": "code",
   "execution_count": 1,
   "id": "5d197bb5",
   "metadata": {},
   "outputs": [
    {
     "name": "stdout",
     "output_type": "stream",
     "text": [
      "Please enter the Total Number of List Elements: 2\n",
      "Please enter the Value of 1 Element : 1\n",
      "Please enter the Value of 2 Element : 2\n",
      "Element After Sorting List in Ascending Order is :  [1, 2]\n"
     ]
    }
   ],
   "source": [
    "NumList = []\n",
    "\n",
    "Number = int(input(\"Please enter the Total Number of List Elements: \"))\n",
    "for i in range(1, Number+1):\n",
    "    value = int(input(\"Please enter the Value of %d Element : \" %i))\n",
    "    NumList.append(value)\n",
    "\n",
    "NumList.sort()\n",
    "\n",
    "print(\"Element After Sorting List in Ascending Order is : \", NumList)"
   ]
  },
  {
   "cell_type": "code",
   "execution_count": 2,
   "id": "56f42749",
   "metadata": {},
   "outputs": [
    {
     "name": "stdout",
     "output_type": "stream",
     "text": [
      "\n"
     ]
    }
   ],
   "source": [
    "a= \"this is the example of slicing\"\n",
    "print(a[-3:10])"
   ]
  },
  {
   "cell_type": "code",
   "execution_count": null,
   "id": "e3996445",
   "metadata": {},
   "outputs": [],
   "source": []
  },
  {
   "cell_type": "code",
   "execution_count": null,
   "id": "60a14e75",
   "metadata": {},
   "outputs": [
    {
     "name": "stdout",
     "output_type": "stream",
     "text": [
      "Enter how many numbers you want to sort? 5\n"
     ]
    }
   ],
   "source": [
    "numList= []\n",
    "number = int(input(\"Enter how many numbers you want to sort? \"))\n",
    "for i in range(1, number+1):\n",
    "    value = input(\"Enter the value of %d element\" %i)\n",
    "    numList.append(value)\n",
    "numList.sort()\n",
    "print(\"ELement after sorting\", numList)"
   ]
  },
  {
   "cell_type": "code",
   "execution_count": 11,
   "id": "ff162a7b",
   "metadata": {},
   "outputs": [
    {
     "name": "stdout",
     "output_type": "stream",
     "text": [
      "1\n"
     ]
    }
   ],
   "source": [
    "a=\"ram\"\n",
    "\n",
    "print(a.count(a))\n"
   ]
  },
  {
   "cell_type": "code",
   "execution_count": null,
   "id": "7d4532ae",
   "metadata": {},
   "outputs": [],
   "source": []
  },
  {
   "cell_type": "code",
   "execution_count": null,
   "id": "8e34c9d5",
   "metadata": {},
   "outputs": [],
   "source": []
  }
 ],
 "metadata": {
  "kernelspec": {
   "display_name": "Python 3 (ipykernel)",
   "language": "python",
   "name": "python3"
  },
  "language_info": {
   "codemirror_mode": {
    "name": "ipython",
    "version": 3
   },
   "file_extension": ".py",
   "mimetype": "text/x-python",
   "name": "python",
   "nbconvert_exporter": "python",
   "pygments_lexer": "ipython3",
   "version": "3.9.12"
  }
 },
 "nbformat": 4,
 "nbformat_minor": 5
}
