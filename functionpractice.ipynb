{
 "cells": [
  {
   "cell_type": "code",
   "execution_count": 1,
   "id": "66ffdb26",
   "metadata": {},
   "outputs": [
    {
     "name": "stdout",
     "output_type": "stream",
     "text": [
      "name\n"
     ]
    }
   ],
   "source": [
    "print(\"name\")"
   ]
  },
  {
   "cell_type": "code",
   "execution_count": 11,
   "id": "dfff873b",
   "metadata": {},
   "outputs": [
    {
     "name": "stdout",
     "output_type": "stream",
     "text": [
      "ram\n"
     ]
    }
   ],
   "source": [
    "def newfunction():\n",
    "    \"\"\"\n",
    "    This is a document string\n",
    "    :return:\n",
    "    \"\"\"\n",
    "    print(\"I have built a new function\")\n",
    "    print(\"this is just a function\")\n",
    "\n",
    "\n",
    "\n",
    "\n",
    "def newfunction3(msg):\n",
    "    \"\"\"This function is just a practice function which takes an argument and checks if it is string or not and returns if it is string\"\"\"\n",
    "    if isinstance(msg,str):\n",
    "        print(msg)\n",
    "    else:\n",
    "        print(\"your message is not a string\")\n",
    "        print(\"here is the type of what you have supplied \",type(msg))\n",
    "\n",
    "newfunction3(\"ram\")\n",
    "\n"
   ]
  },
  {
   "cell_type": "code",
   "execution_count": 8,
   "id": "35009ad6",
   "metadata": {},
   "outputs": [
    {
     "name": "stdout",
     "output_type": "stream",
     "text": [
      "hello there\n"
     ]
    }
   ],
   "source": [
    "y = \"hello there\"\n",
    "newfunction3(y)"
   ]
  },
  {
   "cell_type": "code",
   "execution_count": 14,
   "id": "0f8a3f1e",
   "metadata": {},
   "outputs": [
    {
     "name": "stdout",
     "output_type": "stream",
     "text": [
      "ram\n"
     ]
    }
   ],
   "source": [
    "def function2(msg1,msg2):\n",
    "    print(msg1)\n",
    "function2(\"ram\",\"shyam\")"
   ]
  },
  {
   "cell_type": "code",
   "execution_count": 17,
   "id": "ff33622a",
   "metadata": {},
   "outputs": [
    {
     "name": "stdout",
     "output_type": "stream",
     "text": [
      "1024\n"
     ]
    }
   ],
   "source": [
    "def mypow(a,b):\n",
    "    \"\"\"this function calculate power like as the built in power function \"\"\"\n",
    "    c = a**b\n",
    "    print(c)\n",
    "mypow(4,5)\n"
   ]
  },
  {
   "cell_type": "code",
   "execution_count": 25,
   "id": "1b88447a",
   "metadata": {},
   "outputs": [],
   "source": [
    "def checkArgs(a,b,c):\n",
    "    if isinstance(a,(int,float)) and isinstance(b,(int,float)) and isinstance (c,(int,float)):\n",
    "        print(\"you entered correct type\")\n",
    "        print((a+b+c)**2)\n",
    "    else:\n",
    "        print(\"you datatype is incorrect\")\n"
   ]
  },
  {
   "cell_type": "code",
   "execution_count": 24,
   "id": "fc93e845",
   "metadata": {},
   "outputs": [
    {
     "name": "stdout",
     "output_type": "stream",
     "text": [
      "you entered correct type\n",
      "225.0\n"
     ]
    }
   ],
   "source": [
    "checkArgs(4,5,6.00)"
   ]
  },
  {
   "cell_type": "code",
   "execution_count": 26,
   "id": "41c4713c",
   "metadata": {},
   "outputs": [
    {
     "name": "stdout",
     "output_type": "stream",
     "text": [
      "279936\n"
     ]
    }
   ],
   "source": [
    "mypow(6,7)"
   ]
  },
  {
   "cell_type": "code",
   "execution_count": 29,
   "id": "8735e69d",
   "metadata": {},
   "outputs": [
    {
     "name": "stdout",
     "output_type": "stream",
     "text": [
      "a b c\n"
     ]
    }
   ],
   "source": [
    "def functiontest(c2,c1,c3):\n",
    "    print(c1,c2,c3)\n",
    "functiontest(c1 =\"a\", c2=\"b\", c3=\"c\")"
   ]
  },
  {
   "cell_type": "code",
   "execution_count": 51,
   "id": "678e1171",
   "metadata": {},
   "outputs": [
    {
     "name": "stdout",
     "output_type": "stream",
     "text": [
      "25\n"
     ]
    }
   ],
   "source": [
    "def add(x,y):\n",
    "    sumValue= x+y\n",
    "    return sumValue\n",
    "\n"
   ]
  },
  {
   "cell_type": "code",
   "execution_count": 52,
   "id": "774249e8",
   "metadata": {},
   "outputs": [
    {
     "name": "stdout",
     "output_type": "stream",
     "text": [
      "25\n"
     ]
    }
   ],
   "source": [
    "sum= add(10,15)\n",
    "print(sum)"
   ]
  },
  {
   "cell_type": "code",
   "execution_count": 53,
   "id": "1cc8525c",
   "metadata": {},
   "outputs": [],
   "source": [
    "variableOutsideTheFunction = 10"
   ]
  },
  {
   "cell_type": "code",
   "execution_count": 57,
   "id": "194fe82c",
   "metadata": {},
   "outputs": [
    {
     "name": "stdout",
     "output_type": "stream",
     "text": [
      "120\n"
     ]
    }
   ],
   "source": [
    "def g():\n",
    "    variableOutsideTheFunction = 120\n",
    "    print(variableOutsideTheFunction)\n",
    "g()"
   ]
  },
  {
   "cell_type": "code",
   "execution_count": 58,
   "id": "1012a3de",
   "metadata": {},
   "outputs": [
    {
     "name": "stdout",
     "output_type": "stream",
     "text": [
      "10\n"
     ]
    }
   ],
   "source": [
    "print(variableOutsideTheFunction)"
   ]
  },
  {
   "cell_type": "code",
   "execution_count": 60,
   "id": "f4de6d97",
   "metadata": {},
   "outputs": [
    {
     "name": "stdout",
     "output_type": "stream",
     "text": [
      "5\n"
     ]
    }
   ],
   "source": [
    "def r():\n",
    "    a=5\n",
    "    b=7\n",
    "    d=\"something\"\n",
    "    return a,b,c\n",
    "x,y,z= r()\n",
    "print(x)"
   ]
  },
  {
   "cell_type": "code",
   "execution_count": 92,
   "id": "649fcb36",
   "metadata": {},
   "outputs": [],
   "source": [
    "def add_n_numbers(*args):\n",
    "    sum = 0\n",
    "    for i in range(len(args)):\n",
    "        sum +=args[i]\n",
    "    return sum\n",
    "    "
   ]
  },
  {
   "cell_type": "code",
   "execution_count": 94,
   "id": "527e8166",
   "metadata": {},
   "outputs": [
    {
     "data": {
      "text/plain": [
       "74"
      ]
     },
     "execution_count": 94,
     "metadata": {},
     "output_type": "execute_result"
    }
   ],
   "source": [
    "add_n_numbers(2,3,4,65)"
   ]
  },
  {
   "cell_type": "code",
   "execution_count": null,
   "id": "5ede535f",
   "metadata": {},
   "outputs": [],
   "source": []
  }
 ],
 "metadata": {
  "kernelspec": {
   "display_name": "Python 3 (ipykernel)",
   "language": "python",
   "name": "python3"
  },
  "language_info": {
   "codemirror_mode": {
    "name": "ipython",
    "version": 3
   },
   "file_extension": ".py",
   "mimetype": "text/x-python",
   "name": "python",
   "nbconvert_exporter": "python",
   "pygments_lexer": "ipython3",
   "version": "3.9.12"
  }
 },
 "nbformat": 4,
 "nbformat_minor": 5
}
