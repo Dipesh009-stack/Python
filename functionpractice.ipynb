{
 "cells": [
  {
   "cell_type": "code",
   "execution_count": 1,
   "id": "fd116f83",
   "metadata": {},
   "outputs": [
    {
     "name": "stdout",
     "output_type": "stream",
     "text": [
      "name\n"
     ]
    }
   ],
   "source": [
    "print(\"name\")"
   ]
  },
  {
   "cell_type": "code",
   "execution_count": 11,
   "id": "1acd953e",
   "metadata": {},
   "outputs": [
    {
     "name": "stdout",
     "output_type": "stream",
     "text": [
      "ram\n"
     ]
    }
   ],
   "source": [
    "def newfunction():\n",
    "    \"\"\"\n",
    "    This is a document string\n",
    "    :return:\n",
    "    \"\"\"\n",
    "    print(\"I have built a new function\")\n",
    "    print(\"this is just a function\")\n",
    "\n",
    "\n",
    "\n",
    "\n",
    "def newfunction3(msg):\n",
    "    \"\"\"This function is just a practice function which takes an argument and checks if it is string or not and returns if it is string\"\"\"\n",
    "    if isinstance(msg,str):\n",
    "        print(msg)\n",
    "    else:\n",
    "        print(\"your message is not a string\")\n",
    "        print(\"here is the type of what you have supplied \",type(msg))\n",
    "\n",
    "newfunction3(\"ram\")\n",
    "\n"
   ]
  },
  {
   "cell_type": "code",
   "execution_count": 8,
   "id": "5dab4c22",
   "metadata": {},
   "outputs": [
    {
     "name": "stdout",
     "output_type": "stream",
     "text": [
      "hello there\n"
     ]
    }
   ],
   "source": [
    "y = \"hello there\"\n",
    "newfunction3(y)"
   ]
  },
  {
   "cell_type": "code",
   "execution_count": 14,
   "id": "9958e0ff",
   "metadata": {},
   "outputs": [
    {
     "name": "stdout",
     "output_type": "stream",
     "text": [
      "ram\n"
     ]
    }
   ],
   "source": [
    "def function2(msg1,msg2):\n",
    "    print(msg1)\n",
    "function2(\"ram\",\"shyam\")"
   ]
  },
  {
   "cell_type": "code",
   "execution_count": 17,
   "id": "423221a5",
   "metadata": {},
   "outputs": [
    {
     "name": "stdout",
     "output_type": "stream",
     "text": [
      "1024\n"
     ]
    }
   ],
   "source": [
    "def mypow(a,b):\n",
    "    \"\"\"this function calculate power like as the built in power function \"\"\"\n",
    "    c = a**b\n",
    "    print(c)\n",
    "mypow(4,5)\n"
   ]
  },
  {
   "cell_type": "code",
   "execution_count": 25,
   "id": "766e56f5",
   "metadata": {},
   "outputs": [],
   "source": [
    "def checkArgs(a,b,c):\n",
    "    if isinstance(a,(int,float)) and isinstance(b,(int,float)) and isinstance (c,(int,float)):\n",
    "        print(\"you entered correct type\")\n",
    "        print((a+b+c)**2)\n",
    "    else:\n",
    "        print(\"you datatype is incorrect\")\n"
   ]
  },
  {
   "cell_type": "code",
   "execution_count": 24,
   "id": "2b8f1636",
   "metadata": {},
   "outputs": [
    {
     "name": "stdout",
     "output_type": "stream",
     "text": [
      "you entered correct type\n",
      "225.0\n"
     ]
    }
   ],
   "source": [
    "checkArgs(4,5,6.00)"
   ]
  },
  {
   "cell_type": "code",
   "execution_count": 26,
   "id": "72f96f28",
   "metadata": {},
   "outputs": [
    {
     "name": "stdout",
     "output_type": "stream",
     "text": [
      "279936\n"
     ]
    }
   ],
   "source": [
    "mypow(6,7)"
   ]
  },
  {
   "cell_type": "code",
   "execution_count": 29,
   "id": "f491bb0c",
   "metadata": {},
   "outputs": [
    {
     "name": "stdout",
     "output_type": "stream",
     "text": [
      "a b c\n"
     ]
    }
   ],
   "source": [
    "def functiontest(c2,c1,c3):\n",
    "    print(c1,c2,c3)\n",
    "functiontest(c1 =\"a\", c2=\"b\", c3=\"c\")"
   ]
  },
  {
   "cell_type": "code",
   "execution_count": 51,
   "id": "e33c85b1",
   "metadata": {},
   "outputs": [
    {
     "name": "stdout",
     "output_type": "stream",
     "text": [
      "25\n"
     ]
    }
   ],
   "source": [
    "def add(x,y):\n",
    "    sumValue= x+y\n",
    "    return sumValue\n",
    "\n"
   ]
  },
  {
   "cell_type": "code",
   "execution_count": 52,
   "id": "d5c5ec8f",
   "metadata": {},
   "outputs": [
    {
     "name": "stdout",
     "output_type": "stream",
     "text": [
      "25\n"
     ]
    }
   ],
   "source": [
    "sum= add(10,15)\n",
    "print(sum)"
   ]
  },
  {
   "cell_type": "code",
   "execution_count": 53,
   "id": "fb6d2a34",
   "metadata": {},
   "outputs": [],
   "source": [
    "variableOutsideTheFunction = 10"
   ]
  },
  {
   "cell_type": "code",
   "execution_count": 57,
   "id": "d8cb2b57",
   "metadata": {},
   "outputs": [
    {
     "name": "stdout",
     "output_type": "stream",
     "text": [
      "120\n"
     ]
    }
   ],
   "source": [
    "def g():\n",
    "    variableOutsideTheFunction = 120\n",
    "    print(variableOutsideTheFunction)\n",
    "g()"
   ]
  },
  {
   "cell_type": "code",
   "execution_count": 58,
   "id": "fffabf07",
   "metadata": {},
   "outputs": [
    {
     "name": "stdout",
     "output_type": "stream",
     "text": [
      "10\n"
     ]
    }
   ],
   "source": [
    "print(variableOutsideTheFunction)"
   ]
  },
  {
   "cell_type": "code",
   "execution_count": 59,
   "id": "4cd7c36b",
   "metadata": {},
   "outputs": [
    {
     "name": "stdout",
     "output_type": "stream",
     "text": [
      "5\n"
     ]
    }
   ],
   "source": [
    "def r():\n",
    "    a=5\n",
    "    b=7\n",
    "    d=\"something\"\n",
    "    return a,b,c\n",
    "x,y,z= r()\n",
    "print(x)"
   ]
  },
  {
   "cell_type": "code",
   "execution_count": null,
   "id": "dc80de52",
   "metadata": {},
   "outputs": [],
   "source": []
  }
 ],
 "metadata": {
  "kernelspec": {
   "display_name": "Python 3 (ipykernel)",
   "language": "python",
   "name": "python3"
  },
  "language_info": {
   "codemirror_mode": {
    "name": "ipython",
    "version": 3
   },
   "file_extension": ".py",
   "mimetype": "text/x-python",
   "name": "python",
   "nbconvert_exporter": "python",
   "pygments_lexer": "ipython3",
   "version": "3.9.12"
  }
 },
 "nbformat": 4,
 "nbformat_minor": 5
}
