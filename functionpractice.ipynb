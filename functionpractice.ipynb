{
 "cells": [
  {
   "cell_type": "code",
   "execution_count": 1,
   "id": "caeeff1a",
   "metadata": {},
   "outputs": [
    {
     "name": "stdout",
     "output_type": "stream",
     "text": [
      "name\n"
     ]
    }
   ],
   "source": [
    "print(\"name\")"
   ]
  },
  {
   "cell_type": "code",
   "execution_count": 11,
   "id": "c3932be7",
   "metadata": {},
   "outputs": [
    {
     "name": "stdout",
     "output_type": "stream",
     "text": [
      "ram\n"
     ]
    }
   ],
   "source": [
    "def newfunction():\n",
    "    \"\"\"\n",
    "    This is a document string\n",
    "    :return:\n",
    "    \"\"\"\n",
    "    print(\"I have built a new function\")\n",
    "    print(\"this is just a function\")\n",
    "\n",
    "\n",
    "\n",
    "\n",
    "def newfunction3(msg):\n",
    "    \"\"\"This function is just a practice function which takes an argument and checks if it is string or not and returns if it is string\"\"\"\n",
    "    if isinstance(msg,str):\n",
    "        print(msg)\n",
    "    else:\n",
    "        print(\"your message is not a string\")\n",
    "        print(\"here is the type of what you have supplied \",type(msg))\n",
    "\n",
    "newfunction3(\"ram\")\n",
    "\n"
   ]
  },
  {
   "cell_type": "code",
   "execution_count": 8,
   "id": "674cd1c9",
   "metadata": {},
   "outputs": [
    {
     "name": "stdout",
     "output_type": "stream",
     "text": [
      "hello there\n"
     ]
    }
   ],
   "source": [
    "y = \"hello there\"\n",
    "newfunction3(y)"
   ]
  },
  {
   "cell_type": "code",
   "execution_count": 14,
   "id": "6b2b1dc4",
   "metadata": {},
   "outputs": [
    {
     "name": "stdout",
     "output_type": "stream",
     "text": [
      "ram\n"
     ]
    }
   ],
   "source": [
    "def function2(msg1,msg2):\n",
    "    print(msg1)\n",
    "function2(\"ram\",\"shyam\")"
   ]
  },
  {
   "cell_type": "code",
   "execution_count": 17,
   "id": "1b9c2401",
   "metadata": {},
   "outputs": [
    {
     "name": "stdout",
     "output_type": "stream",
     "text": [
      "1024\n"
     ]
    }
   ],
   "source": [
    "def mypow(a,b):\n",
    "    \"\"\"this function calculate power like as the built in power function \"\"\"\n",
    "    c = a**b\n",
    "    print(c)\n",
    "mypow(4,5)\n"
   ]
  },
  {
   "cell_type": "code",
   "execution_count": 23,
   "id": "22ec23cf",
   "metadata": {},
   "outputs": [
    {
     "name": "stdout",
     "output_type": "stream",
     "text": [
      "you entered correct type\n",
      "225.0\n"
     ]
    }
   ],
   "source": [
    "def checkArgs(a,b,c):\n",
    "    if isinstance(a,(int,float)) and isinstance(b,(int,float)) and isinstance (c,(int,float)):\n",
    "        print(\"you entered correct type\")\n",
    "        print((a+b+c)**2)\n",
    "    else:\n",
    "        print(\"you datatype is incorrect\")\n",
    "checkArgs(4,5,6.00)"
   ]
  },
  {
   "cell_type": "code",
   "execution_count": null,
   "id": "ea9cd57f",
   "metadata": {},
   "outputs": [],
   "source": []
  }
 ],
 "metadata": {
  "kernelspec": {
   "display_name": "Python 3 (ipykernel)",
   "language": "python",
   "name": "python3"
  },
  "language_info": {
   "codemirror_mode": {
    "name": "ipython",
    "version": 3
   },
   "file_extension": ".py",
   "mimetype": "text/x-python",
   "name": "python",
   "nbconvert_exporter": "python",
   "pygments_lexer": "ipython3",
   "version": "3.9.12"
  }
 },
 "nbformat": 4,
 "nbformat_minor": 5
}
