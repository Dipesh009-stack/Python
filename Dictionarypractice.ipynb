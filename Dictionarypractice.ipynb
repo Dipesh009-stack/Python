{
 "cells": [
  {
   "cell_type": "code",
   "execution_count": 17,
   "id": "16108022",
   "metadata": {},
   "outputs": [],
   "source": [
    "def printAllVariableNamesAndValues(**varvalue):\n",
    "    for i in varvalue:\n",
    "        print(\"Variable name is\" ,i,\"Variable value is: \",varvalue[i])\n",
    "        "
   ]
  },
  {
   "cell_type": "code",
   "execution_count": 18,
   "id": "4ae10b0e",
   "metadata": {},
   "outputs": [
    {
     "name": "stdout",
     "output_type": "stream",
     "text": [
      "Variable name is cat Variable value is:  3\n",
      "Variable name is dog Variable value is:  Ram\n",
      "Variable name is bear Variable value is:  Shyam\n"
     ]
    }
   ],
   "source": [
    "printAllVariableNamesAndValues(cat=3 ,dog=\"Ram\" ,bear=\"Shyam\")"
   ]
  },
  {
   "cell_type": "code",
   "execution_count": null,
   "id": "0a22cc27",
   "metadata": {},
   "outputs": [],
   "source": []
  }
 ],
 "metadata": {
  "kernelspec": {
   "display_name": "Python 3 (ipykernel)",
   "language": "python",
   "name": "python3"
  },
  "language_info": {
   "codemirror_mode": {
    "name": "ipython",
    "version": 3
   },
   "file_extension": ".py",
   "mimetype": "text/x-python",
   "name": "python",
   "nbconvert_exporter": "python",
   "pygments_lexer": "ipython3",
   "version": "3.9.12"
  }
 },
 "nbformat": 4,
 "nbformat_minor": 5
}
