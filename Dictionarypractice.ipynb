{
 "cells": [
  {
   "cell_type": "code",
   "execution_count": 17,
   "id": "3b88302a",
   "metadata": {},
   "outputs": [],
   "source": [
    "def printAllVariableNamesAndValues(**varvalue):\n",
    "    for i in varvalue:\n",
    "        print(\"Variable name is\" ,i,\"Variable value is: \",varvalue[i])\n",
    "        "
   ]
  },
  {
   "cell_type": "code",
   "execution_count": 18,
   "id": "4113802f",
   "metadata": {},
   "outputs": [
    {
     "name": "stdout",
     "output_type": "stream",
     "text": [
      "Variable name is cat Variable value is:  3\n",
      "Variable name is dog Variable value is:  Ram\n",
      "Variable name is bear Variable value is:  Shyam\n"
     ]
    }
   ],
   "source": [
    "printAllVariableNamesAndValues(cat=3 ,dog=\"Ram\" ,bear=\"Shyam\")"
   ]
  },
  {
   "cell_type": "code",
   "execution_count": 22,
   "id": "951b5d9b",
   "metadata": {},
   "outputs": [],
   "source": [
    "def fun(a=55):\n",
    "    print(a)"
   ]
  },
  {
   "cell_type": "code",
   "execution_count": 25,
   "id": "9e4f9df5",
   "metadata": {},
   "outputs": [
    {
     "name": "stdout",
     "output_type": "stream",
     "text": [
      "25\n"
     ]
    }
   ],
   "source": [
    "fun(25)"
   ]
  },
  {
   "cell_type": "code",
   "execution_count": 34,
   "id": "206fc80a",
   "metadata": {},
   "outputs": [
    {
     "name": "stdout",
     "output_type": "stream",
     "text": [
      "[7, 5, 6]\n"
     ]
    }
   ],
   "source": [
    "L = [1,2,3]\n",
    "L2 = [4,5,6]\n",
    "L2[0]=7\n",
    "print(L2)"
   ]
  },
  {
   "cell_type": "code",
   "execution_count": 35,
   "id": "0e900ace",
   "metadata": {},
   "outputs": [],
   "source": [
    "import sys\n",
    "sys.path.append('/home/dipesh/Downloads/')\n"
   ]
  },
  {
   "cell_type": "code",
   "execution_count": 38,
   "id": "a1aed73b",
   "metadata": {},
   "outputs": [],
   "source": [
    "import my_universal_function as myfs\n"
   ]
  },
  {
   "cell_type": "code",
   "execution_count": 41,
   "id": "5c070482",
   "metadata": {},
   "outputs": [
    {
     "data": {
      "text/plain": [
       "11"
      ]
     },
     "execution_count": 41,
     "metadata": {},
     "output_type": "execute_result"
    }
   ],
   "source": [
    "myfs.addAllNumerics(5,6)"
   ]
  },
  {
   "cell_type": "code",
   "execution_count": null,
   "id": "f260fb97",
   "metadata": {},
   "outputs": [],
   "source": []
  },
  {
   "cell_type": "code",
   "execution_count": null,
   "id": "ca366275",
   "metadata": {},
   "outputs": [],
   "source": []
  },
  {
   "cell_type": "code",
   "execution_count": null,
   "id": "30d61763",
   "metadata": {},
   "outputs": [],
   "source": []
  }
 ],
 "metadata": {
  "kernelspec": {
   "display_name": "Python 3 (ipykernel)",
   "language": "python",
   "name": "python3"
  },
  "language_info": {
   "codemirror_mode": {
    "name": "ipython",
    "version": 3
   },
   "file_extension": ".py",
   "mimetype": "text/x-python",
   "name": "python",
   "nbconvert_exporter": "python",
   "pygments_lexer": "ipython3",
   "version": "3.9.12"
  }
 },
 "nbformat": 4,
 "nbformat_minor": 5
}
