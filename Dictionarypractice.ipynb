{
 "cells": [
  {
   "cell_type": "code",
   "execution_count": 17,
   "id": "16108022",
   "metadata": {},
   "outputs": [],
   "source": [
    "def printAllVariableNamesAndValues(**varvalue):\n",
    "    for i in varvalue:\n",
    "        print(\"Variable name is\" ,i,\"Variable value is: \",varvalue[i])\n",
    "        "
   ]
  },
  {
   "cell_type": "code",
   "execution_count": 1,
   "id": "4ae10b0e",
   "metadata": {},
   "outputs": [
    {
     "ename": "NameError",
     "evalue": "name 'printAllVariableNamesAndValues' is not defined",
     "output_type": "error",
     "traceback": [
      "\u001b[1;31m---------------------------------------------------------------------------\u001b[0m",
      "\u001b[1;31mNameError\u001b[0m                                 Traceback (most recent call last)",
      "Input \u001b[1;32mIn [1]\u001b[0m, in \u001b[0;36m<cell line: 1>\u001b[1;34m()\u001b[0m\n\u001b[1;32m----> 1\u001b[0m \u001b[43mprintAllVariableNamesAndValues\u001b[49m(cat\u001b[38;5;241m=\u001b[39m\u001b[38;5;241m3\u001b[39m ,dog\u001b[38;5;241m=\u001b[39m\u001b[38;5;124m\"\u001b[39m\u001b[38;5;124mRam\u001b[39m\u001b[38;5;124m\"\u001b[39m ,bear\u001b[38;5;241m=\u001b[39m\u001b[38;5;124m\"\u001b[39m\u001b[38;5;124mShyam\u001b[39m\u001b[38;5;124m\"\u001b[39m)\n",
      "\u001b[1;31mNameError\u001b[0m: name 'printAllVariableNamesAndValues' is not defined"
     ]
    }
   ],
   "source": [
    "printAllVariableNamesAndValues(cat=3 ,dog=\"Ram\" ,bear=\"Shyam\")"
   ]
  },
  {
   "cell_type": "code",
   "execution_count": null,
   "id": "0a22cc27",
   "metadata": {},
   "outputs": [],
   "source": []
  }
 ],
 "metadata": {
  "kernelspec": {
   "display_name": "Python 3 (ipykernel)",
   "language": "python",
   "name": "python3"
  },
  "language_info": {
   "codemirror_mode": {
    "name": "ipython",
    "version": 3
   },
   "file_extension": ".py",
   "mimetype": "text/x-python",
   "name": "python",
   "nbconvert_exporter": "python",
   "pygments_lexer": "ipython3",
   "version": "3.9.12"
  }
 },
 "nbformat": 4,
 "nbformat_minor": 5
}
