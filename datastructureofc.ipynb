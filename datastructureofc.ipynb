{
 "cells": [
  {
   "cell_type": "markdown",
   "id": "a4e144aa",
   "metadata": {},
   "source": [
    "# this is data structure of python\n"
   ]
  },
  {
   "cell_type": "code",
   "execution_count": 15,
   "id": "8bfff8a3",
   "metadata": {},
   "outputs": [],
   "source": [
    "L = [1,4,6,\"ram\",9,\"tap\"]\n",
    "T = (1,4,6,\"ram\",9,\"tap\")\n",
    "S = {1,4,6,\"ram\",9,\"tap\"}\n",
    "D = {23:\"twothree\",\"ram\":44,\"shyam\":66,64:\"hari\"}\n"
   ]
  },
  {
   "cell_type": "code",
   "execution_count": 4,
   "id": "583f34b4",
   "metadata": {},
   "outputs": [
    {
     "name": "stdout",
     "output_type": "stream",
     "text": [
      "the type of L is <class 'list'>\n",
      "the type of T is  <class 'tuple'>\n",
      "the type of S is  <class 'set'>\n",
      "the type of D is  <class 'dict'>\n"
     ]
    }
   ],
   "source": [
    "print(\"the type of L is\", type(L))\n",
    "print(\"the type of T is \", type(T))\n",
    "print(\"the type of S is \", type(S))\n",
    "print(\"the type of D is \", type(D))\n"
   ]
  },
  {
   "cell_type": "code",
   "execution_count": 8,
   "id": "6370cfca",
   "metadata": {},
   "outputs": [
    {
     "name": "stdout",
     "output_type": "stream",
     "text": [
      "4\n",
      "4\n",
      "True\n",
      "44\n"
     ]
    }
   ],
   "source": [
    "print(L[1])\n",
    "print(T[1])\n",
    "print(\"ram\" in S)\n",
    "print(D[\"ram\"])"
   ]
  },
  {
   "cell_type": "code",
   "execution_count": 9,
   "id": "5d13195e",
   "metadata": {},
   "outputs": [
    {
     "data": {
      "text/plain": [
       "{1, 4, 6, 9, 'ram', 'tap'}"
      ]
     },
     "execution_count": 9,
     "metadata": {},
     "output_type": "execute_result"
    }
   ],
   "source": [
    "S"
   ]
  },
  {
   "cell_type": "code",
   "execution_count": 16,
   "id": "26e53ce9",
   "metadata": {},
   "outputs": [
    {
     "data": {
      "text/plain": [
       "{1, 4, 6, 9, 'ram', 'tap'}"
      ]
     },
     "execution_count": 16,
     "metadata": {},
     "output_type": "execute_result"
    }
   ],
   "source": [
    "S"
   ]
  },
  {
   "cell_type": "code",
   "execution_count": 17,
   "id": "7d112136",
   "metadata": {},
   "outputs": [
    {
     "data": {
      "text/plain": [
       "[1, 4, 6, 'ram', 9, 'tap']"
      ]
     },
     "execution_count": 17,
     "metadata": {},
     "output_type": "execute_result"
    }
   ],
   "source": [
    "L"
   ]
  },
  {
   "cell_type": "code",
   "execution_count": 19,
   "id": "f01bec4b",
   "metadata": {},
   "outputs": [
    {
     "data": {
      "text/plain": [
       "[4, 6, 'ram']"
      ]
     },
     "execution_count": 19,
     "metadata": {},
     "output_type": "execute_result"
    }
   ],
   "source": [
    "L[1:4]"
   ]
  },
  {
   "cell_type": "code",
   "execution_count": 20,
   "id": "354341ea",
   "metadata": {},
   "outputs": [
    {
     "data": {
      "text/plain": [
       "(4, 6, 'ram')"
      ]
     },
     "execution_count": 20,
     "metadata": {},
     "output_type": "execute_result"
    }
   ],
   "source": [
    "T[1:4]"
   ]
  },
  {
   "cell_type": "code",
   "execution_count": 21,
   "id": "6230a815",
   "metadata": {},
   "outputs": [
    {
     "data": {
      "text/plain": [
       "['tap', 9, 'ram', 6, 4, 1]"
      ]
     },
     "execution_count": 21,
     "metadata": {},
     "output_type": "execute_result"
    }
   ],
   "source": [
    "L[::-1]"
   ]
  },
  {
   "cell_type": "code",
   "execution_count": 22,
   "id": "9b48f206",
   "metadata": {},
   "outputs": [
    {
     "data": {
      "text/plain": [
       "['tap', 'ram', 4]"
      ]
     },
     "execution_count": 22,
     "metadata": {},
     "output_type": "execute_result"
    }
   ],
   "source": [
    "L[::-2]"
   ]
  },
  {
   "cell_type": "code",
   "execution_count": null,
   "id": "ea8b116c",
   "metadata": {},
   "outputs": [],
   "source": []
  }
 ],
 "metadata": {
  "kernelspec": {
   "display_name": "Python 3 (ipykernel)",
   "language": "python",
   "name": "python3"
  },
  "language_info": {
   "codemirror_mode": {
    "name": "ipython",
    "version": 3
   },
   "file_extension": ".py",
   "mimetype": "text/x-python",
   "name": "python",
   "nbconvert_exporter": "python",
   "pygments_lexer": "ipython3",
   "version": "3.9.12"
  }
 },
 "nbformat": 4,
 "nbformat_minor": 5
}
