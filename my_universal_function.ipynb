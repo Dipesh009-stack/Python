{
 "cells": [
  {
   "cell_type": "code",
   "execution_count": 1,
   "id": "ca0a1d2c",
   "metadata": {},
   "outputs": [],
   "source": [
    "def checkIfNotNumeric(*args):\n",
    "    for x in args:\n",
    "        if not(isinstance(x,(int,float))):\n",
    "            return False\n",
    "    return True\n",
    "        "
   ]
  },
  {
   "cell_type": "code",
   "execution_count": 8,
   "id": "3aa18991",
   "metadata": {},
   "outputs": [],
   "source": [
    "def addAllNumerics(*args):\n",
    "    sum=0\n",
    "    for i in args:\n",
    "        sum +=i\n",
    "    return sum\n",
    "\n",
    "\n",
    "myName = \"Python course\""
   ]
  },
  {
   "cell_type": "code",
   "execution_count": null,
   "id": "55132702",
   "metadata": {},
   "outputs": [],
   "source": []
  }
 ],
 "metadata": {
  "kernelspec": {
   "display_name": "Python 3 (ipykernel)",
   "language": "python",
   "name": "python3"
  },
  "language_info": {
   "codemirror_mode": {
    "name": "ipython",
    "version": 3
   },
   "file_extension": ".py",
   "mimetype": "text/x-python",
   "name": "python",
   "nbconvert_exporter": "python",
   "pygments_lexer": "ipython3",
   "version": "3.9.12"
  }
 },
 "nbformat": 4,
 "nbformat_minor": 5
}
