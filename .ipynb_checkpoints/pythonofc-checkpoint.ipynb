{
 "cells": [
  {
   "cell_type": "code",
   "execution_count": null,
   "id": "5d197bb5",
   "metadata": {},
   "outputs": [],
   "source": [
    "NumList = []\n",
    "\n",
    "Number = int(input(\"Please enter the Total Number of List Elements: \"))\n",
    "for i in range(1, Number+1):\n",
    "    value = int(input(\"Please enter the Value of %d Element : \" %i))\n",
    "    NumList.append(value)\n",
    "\n",
    "NumList.sort()\n",
    "\n",
    "print(\"Element After Sorting List in Ascending Order is : \", NumList)"
   ]
  },
  {
   "cell_type": "code",
   "execution_count": null,
   "id": "56f42749",
   "metadata": {},
   "outputs": [],
   "source": [
    "a= \"this is the example of slicing\"\n",
    "print(a[-3:10])"
   ]
  },
  {
   "cell_type": "code",
   "execution_count": null,
   "id": "e3996445",
   "metadata": {},
   "outputs": [],
   "source": []
  },
  {
   "cell_type": "code",
   "execution_count": null,
   "id": "60a14e75",
   "metadata": {},
   "outputs": [],
   "source": [
    "numList= []\n",
    "number = int(input(\"Enter how many numbers you want to sort? \"))\n",
    "for i in range(1, number+1):\n",
    "    value = input(\"Enter the value of %d element\" %i)\n",
    "    numList.append(value)\n",
    "numList.sort()\n",
    "print(\"ELement after sorting\", numList)"
   ]
  },
  {
   "cell_type": "code",
   "execution_count": null,
   "id": "ff162a7b",
   "metadata": {},
   "outputs": [],
   "source": []
  }
 ],
 "metadata": {
  "kernelspec": {
   "display_name": "Python 3 (ipykernel)",
   "language": "python",
   "name": "python3"
  },
  "language_info": {
   "codemirror_mode": {
    "name": "ipython",
    "version": 3
   },
   "file_extension": ".py",
   "mimetype": "text/x-python",
   "name": "python",
   "nbconvert_exporter": "python",
   "pygments_lexer": "ipython3",
   "version": "3.9.12"
  }
 },
 "nbformat": 4,
 "nbformat_minor": 5
}
